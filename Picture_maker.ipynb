{
 "cells": [
  {
   "cell_type": "markdown",
   "metadata": {},
   "source": [
    "# Create Figures"
   ]
  },
  {
   "cell_type": "markdown",
   "metadata": {},
   "source": [
    "## $\\theta_0$ & $\\theta_{90}$ vs inclination"
   ]
  },
  {
   "cell_type": "markdown",
   "metadata": {},
   "source": [
    "This figure attempts to obtain $\\theta_0$ and $\\theta_{90}$ as a function of inclination for quadrics section. I plan to do a reference in section 4.3"
   ]
  },
  {
   "cell_type": "code",
   "execution_count": 2,
   "metadata": {
    "collapsed": true
   },
   "outputs": [],
   "source": [
    "import numpy as np\n",
    "import matplotlib.pyplot as plt\n",
    "import seaborn as sns\n",
    "from scipy.optimize import fsolve\n",
    "from scipy.special import gamma as gamma_func"
   ]
  },
  {
   "cell_type": "markdown",
   "metadata": {},
   "source": [
    "Equations to solve:\n",
    "\\begin{align}\n",
    "T(\\theta_0) &= \\cot^2\\theta_c\\cot i + \\frac{x_0}{b}\\sqrt{\\cot^2\\theta_c\\cot^2 i \\pm 1}\\\\\n",
    "T(\\theta_{90}) &= f_2(i;\\theta_c)\\left[\\frac{x_0}{b} - \\frac{x_0}{a}\\frac{|\\cot\\theta_c|}{f^2(i;\\theta_c)}\\right] \\\\\n",
    "\\frac{x_0}{b} &= \\frac{|\\tan\\theta_c|}{\\tilde{R}_c} - |\\cot\\theta_c|\\\\\n",
    "\\frac{x_0}{a} &= \\frac{\\tan^2\\theta_c}{\\tilde{R}_c} \\mp 1 \\\\\n",
    "f(i;\\theta_c) &= \\left(1 \\pm \\tan^2 i\\tan^2\\theta_c\\right)^{1/2}\\\\\n",
    "f_2(i;\\theta_c) &= \\left[1 \\mp \\left(\\frac{x_0}{a}\\right)^2\\frac{1}{f^4(i;\\theta_c)}\\right]^{-1/2}\n",
    "\\end{align}"
   ]
  },
  {
   "cell_type": "code",
   "execution_count": 8,
   "metadata": {
    "collapsed": true
   },
   "outputs": [],
   "source": [
    "def f(i, tc):\n",
    "    \"\"\"\n",
    "    Function of inclination and theta_c\n",
    "    \"\"\"\n",
    "    return np.sqrt(1 + np.sign(tc)*np.tan(np.radians(i))**2*np.tan(np.radians(tc))**2)"
   ]
  },
  {
   "cell_type": "code",
   "execution_count": 9,
   "metadata": {
    "collapsed": false
   },
   "outputs": [],
   "source": [
    "def x0a(Rc, tc):\n",
    "    \"\"\"\n",
    "    x_0 over a ratio\n",
    "    \"\"\"\n",
    "    return np.tan(np.radians(tc))**2/Rc -np.sign(tc)"
   ]
  },
  {
   "cell_type": "code",
   "execution_count": 10,
   "metadata": {
    "collapsed": true
   },
   "outputs": [],
   "source": [
    "def x0b(Rc, tc):\n",
    "    \"\"\"\n",
    "    x_0 over b ratio\n",
    "    \"\"\"\n",
    "    return np.abs(np.tan(np.radians(tc)))/Rc - 1./np.abs(np.tan(np.radians(tc)))"
   ]
  },
  {
   "cell_type": "code",
   "execution_count": 11,
   "metadata": {
    "collapsed": true
   },
   "outputs": [],
   "source": [
    "def f2(i, tc, Rc):\n",
    "    \"\"\"\n",
    "    Function of inclination, theta_c and R_c\n",
    "    \"\"\"\n",
    "    return np.sqrt(1 - np.sign(tc) + x0a(Rc, tc)**2/f(i, tc)**4)"
   ]
  },
  {
   "cell_type": "markdown",
   "metadata": {},
   "source": [
    "Set parameters:"
   ]
  },
  {
   "cell_type": "code",
   "execution_count": 12,
   "metadata": {
    "collapsed": false
   },
   "outputs": [],
   "source": [
    "inclination = np.linspace(0,30)\n",
    "beta = [1e-4, 1e-2, 1e-1]\n",
    "xi = [\"isotropic\", 1, 0.8, 0.4]"
   ]
  },
  {
   "cell_type": "markdown",
   "metadata": {},
   "source": [
    "Set more functions for the tail fit:"
   ]
  },
  {
   "cell_type": "code",
   "execution_count": 14,
   "metadata": {
    "collapsed": true
   },
   "outputs": [],
   "source": [
    "def x0_tail(beta, xi):\n",
    "    \"\"\"\n",
    "    Hyperbola offset for tail\n",
    "    \"\"\"\n",
    "    ck0 = [2.0758, -0.2309, -0.2532]\n",
    "    ck1 = [0.9571, -0.1530, -0.2487]\n",
    "    ck2 = [0.2528, -0.0360, -0.0794]\n",
    "    ck3 = [0.0171, -0.0010, -0.0095]\n",
    "    C3 =  ck3[2]*xi**2 + ck3[1]*xi + ck3[0]\n",
    "    C2 =  ck2[2]*xi**2 + ck2[1]*xi + ck2[0]\n",
    "    C1 =  ck1[2]*xi**2 + ck1[1]*xi + ck1[0]\n",
    "    C0 =  ck0[2]*xi**2 + ck0[1]*xi + ck0[0]\n",
    "    logb = np.log10(beta)\n",
    "    return 0.7*beta**(-0.55)*(C3*logb**3 + C2*logb**2 + C1*logb + C0)"
   ]
  },
  {
   "cell_type": "code",
   "execution_count": 1,
   "metadata": {
    "collapsed": true
   },
   "outputs": [],
   "source": [
    "def x0ma_tail(beta, xi):\n",
    "    \"\"\"\n",
    "    Find x0 - a for the tail fit\n",
    "    \"\"\"\n",
    "    dk0 = [0.8516, -0.0907, -0.2002]\n",
    "    dk1 = [-0.7620, 0.1411, -0.0295]\n",
    "    dk2 = [-0.0683, 0.0390, -0.0236]\n",
    "    D2 =  dk2[2]*xi**2 + dk2[1]*xi + dk2[0]\n",
    "    D1 =  dk1[2]*xi**2 + dk1[1]*xi + dk1[0]\n",
    "    D0 =  dk0[2]*xi**2 + dk0[1]*xi + dk0[0]\n",
    "    logb = np.log10(beta)\n",
    "    return D2*logb**2 + D1*logb + D0"
   ]
  },
  {
   "cell_type": "markdown",
   "metadata": {},
   "source": [
    "## $\\theta_\\infty$ for non isotropic case"
   ]
  },
  {
   "cell_type": "markdown",
   "metadata": {},
   "source": [
    "For the non isotropic case the inner wind mass loss truncates at $\\theta = \\frac{\\pi}{2}$. So, the equation (54) of\n",
    "paper does not apply for $\\theta > \\frac{\\pi}{2}$ if $k > 0$. Instead, we got that the equivalent of equation (54) is:\n",
    "\\begin{align}\n",
    "\\theta_1\\cot\\theta_1 &= 2\\beta I \\cot\\theta -\\frac{2\\beta}{k+2} \\\\\n",
    "\\mathrm{where~}  I &= \\int^{\\frac{\\pi}{2}}_{0} \\cos^k\\theta\\sin^2\\theta~d\\theta = \\frac{\\sqrt{\\pi}\\Gamma\\left(\\frac{k+1}{2}\\right)}{4\\Gamma\\left(\\frac{k}{2}+2\\right)}\n",
    "\\end{align}"
   ]
  },
  {
   "cell_type": "markdown",
   "metadata": {},
   "source": [
    "With this we can obtain $\\theta_\\infty$ defined as $\\theta_\\infty + \\theta_{1\\infty} = \\pi$ solving the implicit equation for $\\theta_\\infty$:\n",
    "\n",
    "$$\\theta_\\infty - \\frac{k+2(1-\\beta)}{k+2}\\tan\\theta_\\infty = \\pi + 2\\beta I$$"
   ]
  },
  {
   "cell_type": "code",
   "execution_count": 3,
   "metadata": {
    "collapsed": true
   },
   "outputs": [],
   "source": [
    "def finf(th, beta, xi):\n",
    "    k = 2./xi-2\n",
    "    C = (k+2*(1-beta))/(k+2)\n",
    "    I = np.sqrt(np.pi)*gamma_func(0.5*(k+1))/(4*gamma_func(0.5*k+2))\n",
    "    D = np.pi + 2*beta*I\n",
    "    return th - C*np.tan(th) -D"
   ]
  },
  {
   "cell_type": "code",
   "execution_count": 4,
   "metadata": {
    "collapsed": true
   },
   "outputs": [],
   "source": [
    "def finf_CRW(th, beta):\n",
    "    return th - np.tan(th) - np.pi/(1.0 -beta)"
   ]
  },
  {
   "cell_type": "code",
   "execution_count": null,
   "metadata": {
    "collapsed": true
   },
   "outputs": [],
   "source": []
  }
 ],
 "metadata": {
  "kernelspec": {
   "display_name": "Python 3",
   "language": "python",
   "name": "python3"
  },
  "language_info": {
   "codemirror_mode": {
    "name": "ipython",
    "version": 3
   },
   "file_extension": ".py",
   "mimetype": "text/x-python",
   "name": "python",
   "nbconvert_exporter": "python",
   "pygments_lexer": "ipython3",
   "version": "3.6.0"
  }
 },
 "nbformat": 4,
 "nbformat_minor": 2
}
