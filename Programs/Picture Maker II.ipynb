{
 "cells": [
  {
   "cell_type": "markdown",
   "metadata": {},
   "source": [
    "# Create figures (Part II)"
   ]
  },
  {
   "cell_type": "code",
   "execution_count": 1,
   "metadata": {
    "collapsed": true
   },
   "outputs": [],
   "source": [
    "import numpy as np\n",
    "import matplotlib.pyplot as plt\n",
    "import seaborn as sns\n",
    "from scipy.optimize import fsolve\n",
    "from scipy.optimize import brentq\n",
    "import sys\n",
    "sys.path.insert(0,\"../bowshock-shape/\")\n",
    "from equation6 import Shell\n",
    "from scipy.interpolate import interp1d\n",
    "from equation6 import _finfCRW\n",
    "from equation6 import _finf\n",
    "%matplotlib inline"
   ]
  },
  {
   "cell_type": "markdown",
   "metadata": {},
   "source": [
    "# Shapes of thin shell bowshocks"
   ]
  },
  {
   "cell_type": "markdown",
   "metadata": {},
   "source": [
    "Make a figure for:\n",
    " - Cantoids and ancantoids bow shocks with fixed $\\beta$ (show the anisotropy effects)\n",
    " - Show bow shocks with fixed anisotropy index (cantoids and wikinoids in one figure and ancantoids separately with high and low anisotropy index) and varying $\\beta$"
   ]
  },
  {
   "cell_type": "code",
   "execution_count": 2,
   "metadata": {
    "collapsed": true
   },
   "outputs": [],
   "source": [
    "theta = np.linspace(0, np.pi, 500, endpoint=False)\n",
    "beta = [\"wilkinoid\", 1e-3, 1e-2, 0.05, 0.08, 0.5, 0.99]\n",
    "index = [\"cantoid\", 1.0, 0.8, 0.6, 0.4]"
   ]
  },
  {
   "cell_type": "code",
   "execution_count": 3,
   "metadata": {
    "collapsed": true
   },
   "outputs": [],
   "source": [
    "def complete_shape(r, t):\n",
    "    \"\"\"\n",
    "    Gives the mirror part of the bow shock shape\n",
    "    \"\"\"\n",
    "    t = np.delete(t, 0)\n",
    "    r0 = r[0] #save first element for further use\n",
    "    r = np.delete(r, 0)\n",
    "    t_com = np.array([-t, t])\n",
    "    r_com = np.array([r, r])\n",
    "    t_com, r_com = t_com.reshape(2*len(t)), r_com.reshape(2*len(r))\n",
    "    t_com = np.append(t_com, 0.0)\n",
    "    r_com = np.append(r_com, r0) # avoid duplicate t =0 and r = r0\n",
    "    t_com, r_com = zip(*sorted(zip(t_com, r_com)))\n",
    "    t_com = np.asarray(t_com)\n",
    "    r_com = np.asarray(r_com)\n",
    "#    mask = np.isfinite(r_com) & np.isfinite(t_com)\n",
    "    return t_com, r_com"
   ]
  },
  {
   "cell_type": "code",
   "execution_count": 4,
   "metadata": {
    "collapsed": true
   },
   "outputs": [],
   "source": [
    "def wilkinoid(t):\n",
    "    \"\"\"\n",
    "    Draws the wilkinoid shape, normalized with R0\n",
    "    \"\"\"\n",
    "    R = np.sqrt(3*(1-t/np.tan(t))/np.sin(t)**2)\n",
    "    R[0] = 1.\n",
    "    return R"
   ]
  },
  {
   "cell_type": "markdown",
   "metadata": {},
   "source": [
    "## Figure with varying $\\beta$, for cantoids and ancantoids"
   ]
  },
  {
   "cell_type": "code",
   "execution_count": 5,
   "metadata": {
    "collapsed": false
   },
   "outputs": [
    {
     "name": "stderr",
     "output_type": "stream",
     "text": [
      "/home/lxndrs/anaconda3/lib/python3.6/site-packages/ipykernel/__main__.py:5: RuntimeWarning: invalid value encountered in true_divide\n"
     ]
    },
    {
     "ename": "FileNotFoundError",
     "evalue": "[Errno 2] No such file or directory: './Figures/cantoid-wilkinoid-shape.pdf'",
     "output_type": "error",
     "traceback": [
      "\u001b[0;31m---------------------------------------------------------------------------\u001b[0m",
      "\u001b[0;31mFileNotFoundError\u001b[0m                         Traceback (most recent call last)",
      "\u001b[0;32m<ipython-input-5-f4f983d22915>\u001b[0m in \u001b[0;36m<module>\u001b[0;34m()\u001b[0m\n\u001b[1;32m     27\u001b[0m \u001b[0mplt\u001b[0m\u001b[0;34m.\u001b[0m\u001b[0mxlabel\u001b[0m\u001b[0;34m(\u001b[0m\u001b[0;34mr\"$z/R_0$\"\u001b[0m\u001b[0;34m)\u001b[0m\u001b[0;34m\u001b[0m\u001b[0m\n\u001b[1;32m     28\u001b[0m \u001b[0mplt\u001b[0m\u001b[0;34m.\u001b[0m\u001b[0mylabel\u001b[0m\u001b[0;34m(\u001b[0m\u001b[0;34mr\"$r/R_0$\"\u001b[0m\u001b[0;34m)\u001b[0m\u001b[0;34m\u001b[0m\u001b[0m\n\u001b[0;32m---> 29\u001b[0;31m \u001b[0mplt\u001b[0m\u001b[0;34m.\u001b[0m\u001b[0msavefig\u001b[0m\u001b[0;34m(\u001b[0m\u001b[0;34m\"./Figures/cantoid-wilkinoid-shape.pdf\"\u001b[0m\u001b[0;34m)\u001b[0m\u001b[0;34m\u001b[0m\u001b[0m\n\u001b[0m",
      "\u001b[0;32m/home/lxndrs/anaconda3/lib/python3.6/site-packages/matplotlib/pyplot.py\u001b[0m in \u001b[0;36msavefig\u001b[0;34m(*args, **kwargs)\u001b[0m\n\u001b[1;32m    695\u001b[0m \u001b[0;32mdef\u001b[0m \u001b[0msavefig\u001b[0m\u001b[0;34m(\u001b[0m\u001b[0;34m*\u001b[0m\u001b[0margs\u001b[0m\u001b[0;34m,\u001b[0m \u001b[0;34m**\u001b[0m\u001b[0mkwargs\u001b[0m\u001b[0;34m)\u001b[0m\u001b[0;34m:\u001b[0m\u001b[0;34m\u001b[0m\u001b[0m\n\u001b[1;32m    696\u001b[0m     \u001b[0mfig\u001b[0m \u001b[0;34m=\u001b[0m \u001b[0mgcf\u001b[0m\u001b[0;34m(\u001b[0m\u001b[0;34m)\u001b[0m\u001b[0;34m\u001b[0m\u001b[0m\n\u001b[0;32m--> 697\u001b[0;31m     \u001b[0mres\u001b[0m \u001b[0;34m=\u001b[0m \u001b[0mfig\u001b[0m\u001b[0;34m.\u001b[0m\u001b[0msavefig\u001b[0m\u001b[0;34m(\u001b[0m\u001b[0;34m*\u001b[0m\u001b[0margs\u001b[0m\u001b[0;34m,\u001b[0m \u001b[0;34m**\u001b[0m\u001b[0mkwargs\u001b[0m\u001b[0;34m)\u001b[0m\u001b[0;34m\u001b[0m\u001b[0m\n\u001b[0m\u001b[1;32m    698\u001b[0m     \u001b[0mfig\u001b[0m\u001b[0;34m.\u001b[0m\u001b[0mcanvas\u001b[0m\u001b[0;34m.\u001b[0m\u001b[0mdraw_idle\u001b[0m\u001b[0;34m(\u001b[0m\u001b[0;34m)\u001b[0m   \u001b[0;31m# need this if 'transparent=True' to reset colors\u001b[0m\u001b[0;34m\u001b[0m\u001b[0m\n\u001b[1;32m    699\u001b[0m     \u001b[0;32mreturn\u001b[0m \u001b[0mres\u001b[0m\u001b[0;34m\u001b[0m\u001b[0m\n",
      "\u001b[0;32m/home/lxndrs/anaconda3/lib/python3.6/site-packages/matplotlib/figure.py\u001b[0m in \u001b[0;36msavefig\u001b[0;34m(self, *args, **kwargs)\u001b[0m\n\u001b[1;32m   1570\u001b[0m             \u001b[0mself\u001b[0m\u001b[0;34m.\u001b[0m\u001b[0mset_frameon\u001b[0m\u001b[0;34m(\u001b[0m\u001b[0mframeon\u001b[0m\u001b[0;34m)\u001b[0m\u001b[0;34m\u001b[0m\u001b[0m\n\u001b[1;32m   1571\u001b[0m \u001b[0;34m\u001b[0m\u001b[0m\n\u001b[0;32m-> 1572\u001b[0;31m         \u001b[0mself\u001b[0m\u001b[0;34m.\u001b[0m\u001b[0mcanvas\u001b[0m\u001b[0;34m.\u001b[0m\u001b[0mprint_figure\u001b[0m\u001b[0;34m(\u001b[0m\u001b[0;34m*\u001b[0m\u001b[0margs\u001b[0m\u001b[0;34m,\u001b[0m \u001b[0;34m**\u001b[0m\u001b[0mkwargs\u001b[0m\u001b[0;34m)\u001b[0m\u001b[0;34m\u001b[0m\u001b[0m\n\u001b[0m\u001b[1;32m   1573\u001b[0m \u001b[0;34m\u001b[0m\u001b[0m\n\u001b[1;32m   1574\u001b[0m         \u001b[0;32mif\u001b[0m \u001b[0mframeon\u001b[0m\u001b[0;34m:\u001b[0m\u001b[0;34m\u001b[0m\u001b[0m\n",
      "\u001b[0;32m/home/lxndrs/anaconda3/lib/python3.6/site-packages/matplotlib/backend_bases.py\u001b[0m in \u001b[0;36mprint_figure\u001b[0;34m(self, filename, dpi, facecolor, edgecolor, orientation, format, **kwargs)\u001b[0m\n\u001b[1;32m   2242\u001b[0m                 \u001b[0morientation\u001b[0m\u001b[0;34m=\u001b[0m\u001b[0morientation\u001b[0m\u001b[0;34m,\u001b[0m\u001b[0;34m\u001b[0m\u001b[0m\n\u001b[1;32m   2243\u001b[0m                 \u001b[0mbbox_inches_restore\u001b[0m\u001b[0;34m=\u001b[0m\u001b[0m_bbox_inches_restore\u001b[0m\u001b[0;34m,\u001b[0m\u001b[0;34m\u001b[0m\u001b[0m\n\u001b[0;32m-> 2244\u001b[0;31m                 **kwargs)\n\u001b[0m\u001b[1;32m   2245\u001b[0m         \u001b[0;32mfinally\u001b[0m\u001b[0;34m:\u001b[0m\u001b[0;34m\u001b[0m\u001b[0m\n\u001b[1;32m   2246\u001b[0m             \u001b[0;32mif\u001b[0m \u001b[0mbbox_inches\u001b[0m \u001b[0;32mand\u001b[0m \u001b[0mrestore_bbox\u001b[0m\u001b[0;34m:\u001b[0m\u001b[0;34m\u001b[0m\u001b[0m\n",
      "\u001b[0;32m/home/lxndrs/anaconda3/lib/python3.6/site-packages/matplotlib/backends/backend_pdf.py\u001b[0m in \u001b[0;36mprint_pdf\u001b[0;34m(self, filename, **kwargs)\u001b[0m\n\u001b[1;32m   2515\u001b[0m             \u001b[0mfile\u001b[0m \u001b[0;34m=\u001b[0m \u001b[0mfilename\u001b[0m\u001b[0;34m.\u001b[0m\u001b[0m_file\u001b[0m\u001b[0;34m\u001b[0m\u001b[0m\n\u001b[1;32m   2516\u001b[0m         \u001b[0;32melse\u001b[0m\u001b[0;34m:\u001b[0m\u001b[0;34m\u001b[0m\u001b[0m\n\u001b[0;32m-> 2517\u001b[0;31m             \u001b[0mfile\u001b[0m \u001b[0;34m=\u001b[0m \u001b[0mPdfFile\u001b[0m\u001b[0;34m(\u001b[0m\u001b[0mfilename\u001b[0m\u001b[0;34m)\u001b[0m\u001b[0;34m\u001b[0m\u001b[0m\n\u001b[0m\u001b[1;32m   2518\u001b[0m         \u001b[0;32mtry\u001b[0m\u001b[0;34m:\u001b[0m\u001b[0;34m\u001b[0m\u001b[0m\n\u001b[1;32m   2519\u001b[0m             \u001b[0mfile\u001b[0m\u001b[0;34m.\u001b[0m\u001b[0mnewPage\u001b[0m\u001b[0;34m(\u001b[0m\u001b[0mwidth\u001b[0m\u001b[0;34m,\u001b[0m \u001b[0mheight\u001b[0m\u001b[0;34m)\u001b[0m\u001b[0;34m\u001b[0m\u001b[0m\n",
      "\u001b[0;32m/home/lxndrs/anaconda3/lib/python3.6/site-packages/matplotlib/backends/backend_pdf.py\u001b[0m in \u001b[0;36m__init__\u001b[0;34m(self, filename)\u001b[0m\n\u001b[1;32m    420\u001b[0m         \u001b[0mself\u001b[0m\u001b[0;34m.\u001b[0m\u001b[0mtell_base\u001b[0m \u001b[0;34m=\u001b[0m \u001b[0;36m0\u001b[0m\u001b[0;34m\u001b[0m\u001b[0m\n\u001b[1;32m    421\u001b[0m         \u001b[0;32mif\u001b[0m \u001b[0mis_string_like\u001b[0m\u001b[0;34m(\u001b[0m\u001b[0mfilename\u001b[0m\u001b[0;34m)\u001b[0m\u001b[0;34m:\u001b[0m\u001b[0;34m\u001b[0m\u001b[0m\n\u001b[0;32m--> 422\u001b[0;31m             \u001b[0mfh\u001b[0m \u001b[0;34m=\u001b[0m \u001b[0mopen\u001b[0m\u001b[0;34m(\u001b[0m\u001b[0mfilename\u001b[0m\u001b[0;34m,\u001b[0m \u001b[0;34m'wb'\u001b[0m\u001b[0;34m)\u001b[0m\u001b[0;34m\u001b[0m\u001b[0m\n\u001b[0m\u001b[1;32m    423\u001b[0m         \u001b[0;32melif\u001b[0m \u001b[0mis_writable_file_like\u001b[0m\u001b[0;34m(\u001b[0m\u001b[0mfilename\u001b[0m\u001b[0;34m)\u001b[0m\u001b[0;34m:\u001b[0m\u001b[0;34m\u001b[0m\u001b[0m\n\u001b[1;32m    424\u001b[0m             \u001b[0;32mtry\u001b[0m\u001b[0;34m:\u001b[0m\u001b[0;34m\u001b[0m\u001b[0m\n",
      "\u001b[0;31mFileNotFoundError\u001b[0m: [Errno 2] No such file or directory: './Figures/cantoid-wilkinoid-shape.pdf'"
     ]
    },
    {
     "data": {
      "image/png": "[encoded data removed]",
      "text/plain": [
       "<matplotlib.figure.Figure at 0x7f1300885eb8>"
      ]
     },
     "metadata": {},
     "output_type": "display_data"
    }
   ],
   "source": [
    "sns.set_style(\"white\")\n",
    "colors = sns.color_palette(\"magma\", n_colors=len(beta))\n",
    "for b, c in zip(beta[:-2], colors[:-2]):\n",
    "    if b==\"wilkinoid\":\n",
    "        R = wilkinoid(theta)\n",
    "        label= \"wilkinoid\"\n",
    "        col = \"k\"\n",
    "        lw = 2\n",
    "    else:\n",
    "        shell = Shell(beta=b, innertype=\"isotropic\")\n",
    "        r = shell.radius(theta)\n",
    "        R = r/r[0] # Normalize radius with R0\n",
    "        label= r\"cantoid, $\\beta={}$\".format(b)\n",
    "        col = c\n",
    "        lw = 1\n",
    "    t = np.zeros_like(2*theta)\n",
    "    t, R = complete_shape(R, theta)\n",
    "    x, y = R*np.cos(t), R*np.sin(t)\n",
    "    plt.plot(x, y, label=label, c=col, linewidth = lw)\n",
    "plt.plot([0], [0], \"ko\")\n",
    "plt.plot([-1.5, 3], [0, 0], \"k:\", lw=1.5)\n",
    "plt.plot([0, 0], [-1.5, 5], \"k:\", lw=1.5)\n",
    "plt.legend(fontsize=\"x-small\", ncol=1, loc=\"upper right\")\n",
    "plt.axes().set_aspect('equal')\n",
    "plt.xlim(-1, 2.5)\n",
    "plt.ylim(-1, 4)\n",
    "plt.xlabel(r\"$z/R_0$\")\n",
    "plt.ylabel(r\"$r/R_0$\")\n",
    "plt.savefig(\"./Figures/cantoid-wilkinoid-shape.pdf\")"
   ]
  },
  {
   "cell_type": "markdown",
   "metadata": {},
   "source": [
    "## Figure with fixed anisotropy index ancantoids"
   ]
  },
  {
   "cell_type": "markdown",
   "metadata": {},
   "source": [
    "Proplyd case: $k = 0.5$, $\\xi =0.8$"
   ]
  },
  {
   "cell_type": "code",
   "execution_count": null,
   "metadata": {
    "collapsed": false
   },
   "outputs": [],
   "source": [
    "for b, c in zip(beta[1:], colors[1:]):\n",
    "    proplyd = Shell(beta=b, innertype=\"proplyd\")\n",
    "    R = proplyd.radius(theta)\n",
    "    label= r\"ancantoid, $k = 1/2$, $\\beta={}$\".format(b)\n",
    "    t = np.zeros_like(2*theta)\n",
    "    t, R = complete_shape(R, theta)\n",
    "    x, y = R*np.cos(t), R*np.sin(t)\n",
    "    plt.plot(x, y, label=label, c=c)\n",
    "plt.plot([0], [0], \"ko\")\n",
    "plt.plot([1], [0], \"ko\")\n",
    "plt.plot([-1.5, 1.5], [0, 0], \"k:\", lw=1.5)\n",
    "plt.plot([0, 0], [-1.5, 1.5], \"k:\", lw=1.5)\n",
    "plt.legend(fontsize=\"small\", ncol=2, loc=\"best\")\n",
    "plt.axes().set_aspect('equal')\n",
    "plt.xlim(-0.5, 1.1)\n",
    "plt.ylim(-0.2, 0.5)\n",
    "plt.xlabel(r\"$z/D$\")\n",
    "plt.ylabel(r\"$r/D$\")\n",
    "plt.savefig(\"./Figures/ancantoid-shape.pdf\")"
   ]
  },
  {
   "cell_type": "markdown",
   "metadata": {},
   "source": [
    "## Figure using fixed $\\beta$"
   ]
  },
  {
   "cell_type": "markdown",
   "metadata": {},
   "source": [
    "Fixed $\\beta = 0.01$, varying from cantoid to very anisotropic ancantoid"
   ]
  },
  {
   "cell_type": "code",
   "execution_count": null,
   "metadata": {
    "collapsed": false
   },
   "outputs": [],
   "source": [
    "colors_x = sns.color_palette(\"magma\", n_colors=len(index))\n",
    "for xi, c in zip(index, colors_x):\n",
    "    if xi==\"cantoid\":\n",
    "        shell = Shell(beta=0.01, innertype=\"isotropic\")\n",
    "        label= \"cantoid\"\n",
    "        lw = 2\n",
    "        col = \"k\"\n",
    "    else:\n",
    "        shell = Shell(beta=0.01, innertype=\"anisotropic\", xi=xi)\n",
    "        k = 2./xi-2\n",
    "        label= r\"ancantoid, $k={:.1f}$\".format(k)\n",
    "        lw = 1\n",
    "        col = c\n",
    "    R = shell.radius(theta)\n",
    "    t, R = complete_shape(R, theta)\n",
    "    x, y = R*np.cos(t), R*np.sin(t)\n",
    "    x, y = R*np.cos(t), R*np.sin(t)\n",
    "    plt.plot(x, y, label=label, linewidth=lw, c=col)\n",
    "plt.plot([0], [0], \"ko\")\n",
    "plt.plot([1], [0], \"ko\")\n",
    "plt.plot([-1.5, 1.5], [0, 0], \"k:\", lw=1.5)\n",
    "plt.plot([0, 0], [-1.5, 1.5], \"k:\", lw=1.5)\n",
    "plt.legend(fontsize=\"small\", ncol=2, loc=\"best\")\n",
    "plt.axes().set_aspect('equal')\n",
    "plt.xlim(-0.5, 1.1)\n",
    "plt.ylim(-0.2, 0.5)\n",
    "plt.xlabel(r\"$z/D$\")\n",
    "plt.ylabel(r\"$r/D$\")\n",
    "plt.savefig(\"./Figures/cantoid-ancantoid-shape-bfixed.pdf\")"
   ]
  },
  {
   "cell_type": "markdown",
   "metadata": {},
   "source": [
    "# $\\Pi$ vs $\\Lambda$ diagnostic diagram"
   ]
  },
  {
   "cell_type": "markdown",
   "metadata": {},
   "source": [
    "We need the formulae from CRW model chapter:\n",
    "\n",
    "\\begin{equation}\n",
    "\\Lambda = \\frac{\\left(3\\xi\\right)^{1/2}\\left(1+\\beta^{1/2}\\right)}{\\left(1 + \\frac{1}{5}\\xi\\beta\\right)^{1/2}\\left(1-\\xi\\beta\\right)}\n",
    "\\end{equation}\n",
    "\n",
    "\\begin{equation}\n",
    "\\Pi = \\left|1-2R_{\\theta,\\theta}\\right|^{-1}\n",
    "\\end{equation}\n",
    "\n",
    "$$R_{\\theta,\\theta} = \\frac{C_{k\\beta}}{1+\\beta^{1/2}} + \\frac{1+2\\beta^{1/2}}{6}$$\n",
    "\n",
    "$$C_{k\\beta} = \\frac{1}{2}\\left(A_k - \\frac{\\beta}{15}\\right)$$\n",
    "\n",
    "$$A_k = \\frac{1}{15} - \\frac{3k}{20}$$"
   ]
  },
  {
   "cell_type": "markdown",
   "metadata": {},
   "source": [
    "Calculating alatude and planitude for each anisotropy index\n",
    "\n",
    "We will include a numerical calculation of $R_c$, marked with filled circles to compare with the analytical curves. This numerical results will be useful when estimating the projected alatude and planitude (instead of the two quadrics fit)\n",
    "\n",
    "Start defining arrays for $\\xi$ and $\\beta$"
   ]
  },
  {
   "cell_type": "code",
   "execution_count": null,
   "metadata": {
    "collapsed": true
   },
   "outputs": [],
   "source": [
    "beta_arr = np.linspace(1e-4, 0.99, 100)\n",
    "xi = np.array([1.0, 0.8, 0.6, 0.4])\n",
    "sb = np.sqrt(beta_arr)\n",
    "beta_d = np.array([1e-3, 1e-2, 1e-1, 0.5])"
   ]
  },
  {
   "cell_type": "code",
   "execution_count": null,
   "metadata": {
    "collapsed": true
   },
   "outputs": [],
   "source": [
    "def num_fit(r, t, dt=np.radians(30.), epsilon=1e-4, debug=False):\n",
    "    \"\"\"\n",
    "    Find polinomial estimation of r(t):\n",
    "    Fit r as r \\simeq R0 + 0.5*Rtt*t^2 + 1./24*R4t*t^4 using t < 30 deg. The odd \n",
    "    coefficients should be zero since we will use the complete shape, which is symmetric with t.\n",
    "    The second order coefficient will help us to find the planitude \\Pi\n",
    "    \n",
    "    Entries:\n",
    "    t: Angle array\n",
    "    r: shell shape r(t)\n",
    "    dt: maximum value of |t| for the fit\n",
    "    epsilon: proposed margin error for fit tests\n",
    "    \"\"\"\n",
    "    ############## Polinomial fit of r ###############\n",
    "    m = np.abs(t) <= dt\n",
    "    p = np.polyfit(t[m], r[m], 4)\n",
    "    r0 = np.abs(r).min()\n",
    "    # Warning test: match between r[0] and the last coefficient\n",
    "    if debug==True:\n",
    "        print(\"Starting debug\")\n",
    "        if np.abs(p[-1] - r0) > epsilon:\n",
    "            print(\"Warning: something is not going on. The last coefficient doesn't match with R0\")\n",
    "            print(\"Real:{:.3f}, Fit:{:.3f}\".format(r0, p[-1]))\n",
    "    Rc = p[-1]**2/(p[-1] - 2*p[2])\n",
    "    return Rc"
   ]
  },
  {
   "cell_type": "code",
   "execution_count": null,
   "metadata": {
    "collapsed": false
   },
   "outputs": [],
   "source": [
    "for X, c in zip(xi, colors_x[1:]):\n",
    "    Lambda = np.sqrt(3*X)*(1+sb)/(np.sqrt(1+0.2*X*beta_arr)*(1-X*beta_arr))\n",
    "    k = 2./X -2\n",
    "    Ak = 1./15 - 3*k/20\n",
    "    Ckb = 0.5*(Ak-beta_arr/15.)\n",
    "    Rtt = Ckb/(1+sb) + (1+2*sb)/6.\n",
    "    Pi = 1./(1-2*Rtt)\n",
    "    if X==1.0:\n",
    "        label=r\"cantoid\"\n",
    "        c = \"k\"\n",
    "    else:\n",
    "        label=r\"ancantoid, $k={:.1f}$\".format(k)\n",
    "    plt.plot(Pi, Lambda, label=label, c=c)\n",
    "    ############### Estimate and plot numerical estimations #####################\n",
    "    t = np.zeros_like(2*theta)\n",
    "    for b in beta_d:\n",
    "        shell = Shell(beta=b, innertype=\"anisotropic\", xi=X)\n",
    "        R = shell.radius(theta)\n",
    "        R0 = R[0]\n",
    "        t, R = complete_shape(R, theta)\n",
    "        t = np.asarray(t)\n",
    "        R = np.asarray(R)\n",
    "        Rc =  num_fit(R, t, epsilon=1e-2)\n",
    "        Pi_d = Rc/R0\n",
    "        Lambda_d = np.sqrt(3*X)*(1+np.sqrt(b))/(np.sqrt(1+0.2*X*b)*(1-X*b))\n",
    "        marker_color = c\n",
    "        marker_shape = \"o\"\n",
    "        plt.plot(Pi_d, Lambda_d, c=marker_color, marker=marker_shape)\n",
    "    #############################################################################\n",
    "plt.plot(5./3, np.sqrt(3.), c=\"y\", marker=\"o\", lw=3, alpha=1)  #Plot Wilkinoid shape\n",
    "#############  Numerical estimation of Alatude and planitude for wilkinoid shape #################\n",
    "R_w = wilkinoid(theta)\n",
    "t_w = np.zeros_like(2*theta)\n",
    "t_w, R_w = complete_shape(R_w, theta)\n",
    "Pi_w = num_fit(R_w, t_w, epsilon=1e-2)\n",
    "Lambda_w = np.sqrt(3.)\n",
    "plt.plot(Pi_w, Lambda_w, c=\"m\", marker=\"*\", alpha=0.4)\n",
    "##################################################################################################\n",
    "plt.legend()\n",
    "plt.xlabel(r\"True Planitude $\\Pi$\")\n",
    "plt.ylabel(r\"True Alatude $\\Lambda$\")\n",
    "#################### Quadric regions shades ############################\n",
    "Pi_arr = np.linspace(0, 6, 100)\n",
    "L_par = np.sqrt(2*Pi_arr)\n",
    "L_circ = np.sqrt(2*Pi_arr - 1)\n",
    "L_circ[~np.isfinite(L_circ)] = 0.0 \n",
    "plt.plot(Pi_arr, L_par, \"k\", lw=0.5)\n",
    "plt.plot(Pi_arr, Pi_arr, \"k\", lw=0.5)\n",
    "plt.plot(Pi_arr, np.ones_like(Pi_arr), \"k\", lw=0.5)\n",
    "plt.plot(np.ones_like(Pi_arr), Pi_arr, \"k\", lw=0.5)\n",
    "plt.fill_between(Pi_arr, L_par, L_circ, alpha=0.3, color=\"black\")\n",
    "plt.fill_between(Pi_arr, L_circ, alpha=0.1, color=\"black\")\n",
    "########################################################################\n",
    "plt.axes().set_aspect('equal')\n",
    "plt.xlim(0, 6)\n",
    "plt.ylim(0, 6)\n",
    "plt.savefig(\"./Figures/Pi-vs-Lambda.pdf\")"
   ]
  },
  {
   "cell_type": "markdown",
   "metadata": {},
   "source": [
    "# Apparent shape of cantoids and ancantoids "
   ]
  },
  {
   "cell_type": "markdown",
   "metadata": {},
   "source": [
    "The apparent shape may be obtained by using the transformations of section 2.4, specially the following:\n",
    "\n",
    "\\begin{equation}\n",
    "\\left(\\begin{array}{c}\n",
    "x'_T \\\\ y'_T \\\\ z'_T\n",
    "\\end{array}\\right) = \n",
    "\\left(\\begin{array}{c}\n",
    "R(\\theta) \\left(\\cos\\theta\\cos i -\\sin\\theta\\sin\\phi_T\\sin i\\right) \\\\\n",
    "R(\\theta)\\sin\\theta\\left(1 - \\sin^2\\phi_T\\right)^{1/2}\\\\\n",
    "R(\\theta)\\left(\\cos\\theta\\sin i + \\sin\\theta\\sin\\phi_T\\cos i\\right)\n",
    "\\end{array}\\right)\n",
    "\\end{equation}\n",
    "\n",
    "Where:\n",
    "\\begin{equation}\n",
    "\\sin\\phi_T = -\\tan i \\tan\\alpha = \\tan i\\frac{1 + \\omega\\tan\\theta}{\\omega - \\tan\\theta}\n",
    "\\end{equation}\n",
    "$$\\omega = \\frac{1}{R}\\frac{dR}{d\\theta}$$\n",
    "\n",
    "With this we may obtain the apparent shape $(R', \\theta')$ as following:\n",
    "\n",
    "\\begin{equation}\n",
    "R' = \\left(x'^2_T + y'^2_T\\right)^{1/2}\n",
    "\\end{equation}\n",
    "$$\\tan\\theta' = \\frac{y'_T}{x'_T}$$\n",
    "\n",
    "And the projected characteristic radii (and thus planitude and alatude):\n",
    "\n",
    "$$R'_0 = R(\\theta_0)\\cos(\\theta_0 - i)$$\n",
    "$$R'_{90} = R(\\theta_{90})\\sin\\theta_{90}\\left(1 - \\sin^2\\phi_T(\\theta_{90})\\right)^{1/2}$$\n",
    "$$R'_c = \\frac{R'^2_0}{R'_0 - R'_{\\theta\\theta, 0}}$$\n",
    "\n",
    "Where $\\theta_0$ and $\\theta_{90}$ can be obtained solving the following implicit equations:\n",
    "$$\\tan\\theta_0 = \\frac{|\\tan i| + \\omega(\\theta_0)}{1 - \\omega(\\theta_0)|\\tan i|}$$\n",
    "$$\\cot\\theta_{90} = \\frac{1 - \\left(1 + \\omega(\\theta_{90})^2\\sin^2 2i\\right)^{1/2}}{2\\omega(\\theta_{90})\\cos^2i}$$\n",
    "\n",
    "And $R'_{\\theta\\theta, 0}$ may be found numerically with a polinomial fit of $R'(\\theta')$\n",
    "\n",
    "We also must note that the tangent line only exists for $\\theta \\geq \\theta_0$ and for $i < \\theta_\\infty - 90^\\circ$\n",
    "\n",
    "$\\theta_\\infty$ defined as $\\theta_\\infty + \\theta_{1\\infty} = \\pi$ may be obtained solving the next implicit equation:\n",
    "\n",
    "$$\\theta_\\infty - \\frac{k+2(1-\\beta)}{k+2}\\tan\\theta_\\infty = \\pi + 2\\beta I$$\n",
    "\n",
    "And for the cantoid shell:\n",
    "\n",
    "$$\\theta_\\infty - \\tan\\theta_\\infty = \\frac{\\pi}{1 - \\beta}$$\n",
    "This equation and the one applicable to the cantoid shocks are available in the Shell class\n",
    "\n",
    "For Wilkinoid shapes $\\theta_\\infty = 180^\\circ$ so the tangent line exists for all inclinations."
   ]
  },
  {
   "cell_type": "code",
   "execution_count": null,
   "metadata": {
    "collapsed": true
   },
   "outputs": [],
   "source": [
    "def sin_phi_t(r, t, i):\n",
    "    \"\"\"\n",
    "    phi angle where the tangent line occurs\n",
    "    \"\"\"\n",
    "    w = np.gradient(np.log(r))/np.gradient(t)\n",
    "    return np.tan(i)*(1 + w*np.tan(t))/(w - np.tan(t))"
   ]
  },
  {
   "cell_type": "code",
   "execution_count": null,
   "metadata": {
    "collapsed": true
   },
   "outputs": [],
   "source": [
    "def proj_shape(r, t, i, cartesian=True):\n",
    "    \"\"\"\n",
    "    Projected shape of r(t) for a given inclination (entered in radians)\n",
    "    If cartesian is True, then the output will be (x_T, y_T). Else the output will be (\\theta', R').\n",
    "    \"\"\"\n",
    "    xt = r*(np.cos(t)*np.cos(i)-np.sin(t)*sin_phi_t(r, t, i)*np.sin(i))\n",
    "    yt = r*np.sin(t)*np.sqrt(1 - (sin_phi_t(r, t, i))**2)\n",
    "    if cartesian==True:\n",
    "        return xt, yt\n",
    "    else:\n",
    "        return np.arctan2(yt, xt), np.hypot(xt, yt)"
   ]
  },
  {
   "cell_type": "code",
   "execution_count": null,
   "metadata": {
    "collapsed": true
   },
   "outputs": [],
   "source": [
    "def f_proj_t0(t, w, i):\n",
    "    \"\"\"\n",
    "    Funtion to be zeroed in order to find \\theta_0. Where \\theta'(\\theta_0) = 0\n",
    "    Arguments:\n",
    "    t: polar angle theta\n",
    "    w: derivative of the natural logarithm of radius\n",
    "    i: inclination respect the plane of sky (must be entered in degrees)\n",
    "    \"\"\"\n",
    "    f = (np.abs(np.tan(np.radians(i))) + w)/np.tan(t) -1+w*np.abs(np.tan(np.radians(i)))\n",
    "    return f"
   ]
  },
  {
   "cell_type": "markdown",
   "metadata": {},
   "source": [
    "Use single-case example to check everything is okay"
   ]
  },
  {
   "cell_type": "code",
   "execution_count": null,
   "metadata": {
    "collapsed": false
   },
   "outputs": [],
   "source": [
    "cantoidl = Shell(beta=0.005, innertype=\"isotropic\")\n",
    "Rl = cantoidl.radius(theta)\n",
    "wl = np.gradient(np.log(Rl))/np.gradient(theta)\n",
    "thinfl = fsolve(_finfCRW, np.radians(91.0), args=(0.005))\n",
    "imax = np.degrees(thinfl) - 90.\n",
    "print(thinfl, imax)"
   ]
  },
  {
   "cell_type": "markdown",
   "metadata": {},
   "source": [
    "Use brentq method to find $\\theta_0$, using a wide interval $\\theta = [0^\\circ, 125^\\circ]$. See next example for high inclination:"
   ]
  },
  {
   "cell_type": "code",
   "execution_count": null,
   "metadata": {
    "collapsed": false
   },
   "outputs": [],
   "source": [
    "epsilon = np.radians(1.0)\n",
    "f_int_t0 = interp1d(theta, f_proj_t0(theta, wl, 15))\n",
    "t0 = brentq(f_int_t0, epsilon, thinfl-epsilon)\n",
    "print(np.degrees(t0))"
   ]
  },
  {
   "cell_type": "code",
   "execution_count": null,
   "metadata": {
    "collapsed": false
   },
   "outputs": [],
   "source": [
    "plt.plot(np.degrees(theta[1:]), sin_phi_t(Rl[1:], theta[1:], np.radians(15)))\n",
    "plt.plot(np.degrees(t0), -1.0, \"bo\")\n",
    "plt.plot(np.degrees(theta), np.zeros_like(theta), \"k--\")\n",
    "plt.ylim(-1, 1)"
   ]
  },
  {
   "cell_type": "markdown",
   "metadata": {},
   "source": [
    "## Plot $\\theta_0$ vs i for cantoid and wilkinoid shells"
   ]
  },
  {
   "cell_type": "markdown",
   "metadata": {
    "collapsed": true
   },
   "source": [
    "Try to plot $R'_0/R_0$ vs $i$ as well. Where $R'_0 = R(\\theta_0)\\cos(\\theta_0 - i)$"
   ]
  },
  {
   "cell_type": "code",
   "execution_count": null,
   "metadata": {
    "collapsed": false
   },
   "outputs": [],
   "source": [
    "beta = [\"wilkinoid\", 5e-3, 1e-2, 0.05, 0.08, 0.5]\n",
    "color = sns.color_palette(\"magma\", n_colors=len(beta))\n",
    "f= plt.figure()\n",
    "ax1 = f.add_subplot(1, 2, 1, adjustable=\"box\")\n",
    "ax2 = f.add_subplot(1, 2, 2, adjustable=\"box\")\n",
    "label_fig = [\"( a )\", \"( b )\"]\n",
    "x_text = [53, 75]\n",
    "y_text = [65, 8.8]\n",
    "for b, c in zip(beta, color):\n",
    "    if b == \"wilkinoid\":\n",
    "        R = wilkinoid(theta)\n",
    "        thinf = np.pi\n",
    "        lw = 2\n",
    "        label = \"wilkinoid\"\n",
    "    else:\n",
    "        cantoid = Shell(beta=b, innertype=\"isotropic\")\n",
    "        R = cantoid.radius(theta)\n",
    "        R0 = R[0]\n",
    "        thinf = fsolve(_finfCRW, np.radians(91.0), args=(b))\n",
    "        lw = 1\n",
    "        label = r\"$\\beta = {}$\"\n",
    "    R_int = interp1d(theta, R) # interpolation to have a proper function R(\\theta)\n",
    "    # find maximum inclination where the tangent line exists\n",
    "    imax = thinf - 0.5*np.pi\n",
    "    # set array size such that the step is the same in all cases\n",
    "    step = np.radians(1.0) # 1 degree is good to make the brentq method work for all beta values\n",
    "    narray = imax/step\n",
    "    inc_arr = np.linspace(0.0, imax, narray, endpoint=False)\n",
    "    t0_arr = []\n",
    "    w = np.gradient(np.log(R))/np.gradient(theta)\n",
    "    if b == 0.005:\n",
    "        ilim = np.degrees(imax)\n",
    "    for i in inc_arr:\n",
    "        f_int_t0 = interp1d(theta, f_proj_t0(theta, w, np.degrees(i)))\n",
    "        if i == 0.0:\n",
    "            t0 = 0.0\n",
    "        else:\n",
    "            t0 = brentq(f_int_t0, step, thinf-step)\n",
    "        t0_arr.append(t0)\n",
    "    ax1.plot(np.degrees(inc_arr), np.degrees(t0_arr), label=label.format(b), c=c, lw=lw)\n",
    "    R0p = R_int(np.array(t0_arr))*np.cos(np.array(t0_arr)-inc_arr)\n",
    "    if b != \"wilkinoid\":\n",
    "        R0p = R0p/R0\n",
    "    ax2.plot(np.degrees(inc_arr), R0p, label=label.format(b), c=c, lw=lw)\n",
    "ax1.plot(np.linspace(0, 90), np.linspace(0, 90), \"k--\")\n",
    "ax1.legend()\n",
    "ax2.legend()\n",
    "ax1.text(x_text[0], y_text[0], label_fig[0])\n",
    "ax2.text(x_text[-1], y_text[-1], label_fig[-1])\n",
    "f.text(0.54, 0.005, \"inclination (deg)\", ha='center')\n",
    "ax1.set_ylabel(r\"apex angle at projected frame $\\theta_0$ (deg)\")\n",
    "ax2.set_ylabel(r\"projected apex radius $R'_0/R_0$\")\n",
    "ax1.set_xlim(0, ilim)\n",
    "ax1.set_ylim(0, ilim)\n",
    "f.tight_layout()\n",
    "f.savefig(\"./Figures/cantoid-th0-vs-i.pdf\")"
   ]
  },
  {
   "cell_type": "markdown",
   "metadata": {
    "collapsed": true
   },
   "source": [
    "## Now for ancantoid shells. Use two examples: $\\xi = [0.8, 0.4]$"
   ]
  },
  {
   "cell_type": "code",
   "execution_count": null,
   "metadata": {
    "collapsed": false
   },
   "outputs": [],
   "source": [
    "xi = [0.8, 0.4]\n",
    "f= plt.figure()\n",
    "x1_text = [4, 4]\n",
    "x2_text = [68, 72]\n",
    "y1_text = [70, 74]\n",
    "y2_text = [2.4, 2.4]\n",
    "label_text1 = [\"( a )\", \"( c )\"]\n",
    "label_text2 = [\"( b )\", \"( d )\"]\n",
    "for n, X in enumerate(xi):\n",
    "    k = 2./X - 2\n",
    "    ax1 = f.add_subplot(2, 2, 2*n+1, adjustable=\"box\")\n",
    "    ax2 = f.add_subplot(2, 2, 2*n+2)\n",
    "    for b, c in zip(beta[1:], color[1:]):\n",
    "        ancantoid = Shell(beta=b, innertype=\"anisotropic\", xi=X)\n",
    "        R = ancantoid.radius(theta)\n",
    "        R0 = R[0]\n",
    "        R_int = interp1d(theta, R)\n",
    "        thinf = fsolve(_finf, np.radians(91.0), args=(b, X))\n",
    "        label = r\"$\\beta = {}$\"\n",
    "        # find maximum inclination where the tangent line exists\n",
    "        imax = thinf - 0.5*np.pi\n",
    "        # set array size such that the step is the same in all cases\n",
    "        step = np.radians(1.0) # 1 degree is good to make the brentq method work for all beta values\n",
    "        narray = imax/step\n",
    "        inc_arr = np.linspace(0.0, imax, narray, endpoint=False)\n",
    "        t0_arr = []\n",
    "        w = np.gradient(np.log(R))/np.gradient(theta)\n",
    "        if b == 0.005:\n",
    "            ilim = np.degrees(imax)\n",
    "        for i in inc_arr:\n",
    "            f_int_t0 = interp1d(theta, f_proj_t0(theta, w, np.degrees(i)))\n",
    "            if i == 0.0:\n",
    "                t0 = 0.0\n",
    "            else:\n",
    "                t0 = brentq(f_int_t0, step, thinf-step)\n",
    "            t0_arr.append(t0)\n",
    "        R0p = R_int(np.array(t0_arr))*np.cos(np.array(t0_arr)-inc_arr)/R0\n",
    "        ax1.plot(np.degrees(inc_arr), np.degrees(t0_arr), label=label.format(b), c=c)\n",
    "        ax2.plot(np.degrees(inc_arr), R0p, label=label.format(b), c=c)\n",
    "    ax1.legend(title=r\"$k={}$\".format(k))\n",
    "    ax2.legend(title=r\"k={}\".format(k), loc=\"upper left\")\n",
    "    ax1.plot(np.linspace(0, 90), np.linspace(0, 90), \"k--\")\n",
    "    ax1.set_ylim(0, ilim)\n",
    "    ax1.set_xlim(0, ilim)\n",
    "    ax2.set_xlim(0, ilim)\n",
    "    ax2.set_ylim(0.9, 2.5)\n",
    "    ax1.text(x1_text[n], y1_text[n], label_text1[n])\n",
    "    ax2.text(x2_text[n], y2_text[n], label_text2[n])\n",
    "fontsize = 12\n",
    "f.text(0.49, 0.52, r\"projected apex radius $R'_0/R_0$\", va=\"center\", rotation=\"vertical\", fontsize=fontsize)\n",
    "f.text(0.51, 0.02, \"inclination (deg)\", ha='center', fontsize=fontsize)\n",
    "f.text(0.008, 0.5, r\"apex angle at projected frame $\\theta_0$ (deg)\", va='center', rotation=\"vertical\", fontsize=fontsize)\n",
    "f.tight_layout()\n",
    "f.set_size_inches(8, 8)\n",
    "f.savefig(\"./Figures/ancantoid-th0-vs-i.pdf\")"
   ]
  },
  {
   "cell_type": "markdown",
   "metadata": {
    "collapsed": true
   },
   "source": [
    "## Plot $\\theta_{90}$ and $\\Lambda$ vs $i$"
   ]
  },
  {
   "cell_type": "markdown",
   "metadata": {},
   "source": [
    "Function to be zeroed:"
   ]
  },
  {
   "cell_type": "code",
   "execution_count": null,
   "metadata": {
    "collapsed": true
   },
   "outputs": [],
   "source": [
    "def f_proj_t90(t, w, i):\n",
    "    \"\"\"\n",
    "    Funtion to be zeroed in order to find \\theta_90. Where \\theta'(\\theta_90) = np.pi/2\n",
    "    Arguments:\n",
    "    t: polar angle theta\n",
    "    w: derivative of the natural logarithm of radius\n",
    "    i: inclination respect the plane of sky (must be entered in degrees)\n",
    "    \"\"\"\n",
    "    f1 = 1 + (w*np.sin(2*np.radians(i)))**2\n",
    "    f2 = 2*w*np.cos(np.radians(i))**2\n",
    "    return 1 - np.sqrt(f1) - f2/np.tan(t)"
   ]
  },
  {
   "cell_type": "code",
   "execution_count": null,
   "metadata": {
    "collapsed": false
   },
   "outputs": [],
   "source": [
    "Rw = wilkinoid(theta)\n",
    "ww = np.gradient(np.log(Rw))/np.gradient(theta)\n",
    "f_int_t90 = interp1d(theta, f_proj_t90(theta, ww, 50.0))\n",
    "t90 = brentq(f_int_t90, epsilon, thinfl-epsilon)\n",
    "#int_sin_phi_t = interp1d(theta, sin_phi_t(Rw, theta, np.radians(15.0)))"
   ]
  },
  {
   "cell_type": "code",
   "execution_count": null,
   "metadata": {
    "collapsed": false
   },
   "outputs": [],
   "source": [
    "plt.plot(np.degrees(theta[1:]), sin_phi_t(Rw[1:], theta[1:], np.radians(50.0)))\n",
    "#plt.plot(90.0, int_sin_phi_t(np.radians(90.)), \"bo\")\n",
    "sin_phi_t90 = 1./(np.tan(np.radians(50.0))*np.tan(t90))\n",
    "plt.plot(np.degrees(t90), sin_phi_t90, \"go\")\n",
    "plt.ylim(-1, 1)\n",
    "#plt.xlim(89.0, None)\n",
    "plt.plot(np.degrees(theta), np.zeros_like(theta), \"k--\")"
   ]
  },
  {
   "cell_type": "markdown",
   "metadata": {},
   "source": [
    "Recycling line code to make the $\\theta_{90}$ vs $i$ plot and $\\Lambda$ vs $i$"
   ]
  },
  {
   "cell_type": "code",
   "execution_count": null,
   "metadata": {
    "collapsed": false
   },
   "outputs": [],
   "source": [
    "f= plt.figure()\n",
    "ax1 = f.add_subplot(1, 2, 1, adjustable=\"box\")\n",
    "ax2 = f.add_subplot(1, 2, 2, adjustable=\"box\")\n",
    "label_fig = [\"( a )\", \"( b )\"]\n",
    "x_text = [75, 78]\n",
    "y_text = [95, 2.5]\n",
    "for b, c in zip(beta, color):\n",
    "    if b == \"wilkinoid\":\n",
    "        R = wilkinoid(theta)\n",
    "        thinf = np.pi\n",
    "        lw = 2\n",
    "        label = \"wilkinoid\"\n",
    "    else:\n",
    "        cantoid = Shell(beta=b, innertype=\"isotropic\")\n",
    "        R = cantoid.radius(theta)\n",
    "        R0 = R[0]\n",
    "        thinf = fsolve(_finfCRW, np.radians(91.0), args=(b))\n",
    "        lw = 1\n",
    "        label = r\"$\\beta = {}$\"\n",
    "    R_int = interp1d(theta, R) # interpolation to have a proper function R(\\theta)\n",
    "    # find maximum inclination where the tangent line exists\n",
    "    imax = thinf - 0.5*np.pi\n",
    "    # set array size such that the step is the same in all cases\n",
    "    step = np.radians(1.0) # 1 degree is good to make the brentq method work for all beta values\n",
    "    narray = imax/step\n",
    "    inc_arr = np.linspace(0.0, imax, narray, endpoint=False)\n",
    "    t0_arr = []\n",
    "    t90_arr = []\n",
    "    w = np.gradient(np.log(R))/np.gradient(theta)\n",
    "    for i in inc_arr:\n",
    "        f_int_t0 = interp1d(theta, f_proj_t0(theta, w, np.degrees(i)))\n",
    "        f_int_t90 = interp1d(theta, f_proj_t90(theta, w, np.degrees(i)))\n",
    "        t90 = brentq(f_int_t90, step, thinf-step)\n",
    "        if i == 0.0:\n",
    "            t0 = 0.0\n",
    "        else:\n",
    "            t0 = brentq(f_int_t0, step, thinf-step)\n",
    "        t0_arr.append(t0)\n",
    "        t90_arr.append(t90)\n",
    "    sin_phi_t90 = 1./(np.tan(inc_arr)*np.tan(np.array(t90_arr)))\n",
    "    ax1.plot(np.degrees(inc_arr), np.degrees(t90_arr), label=label.format(b), c=c, lw=lw)\n",
    "    R0p = R_int(np.array(t0_arr))*np.cos(np.array(t0_arr)-inc_arr)\n",
    "    R90p = R_int(np.array(t90_arr))*np.sin(np.array(t90_arr))*np.sqrt(1-sin_phi_t90**2)\n",
    "    Lambda = R90p/R0p\n",
    "    ax2.plot(np.degrees(inc_arr), Lambda, label=label.format(b), c=c, lw=lw)\n",
    "ax1.legend()\n",
    "ax2.legend()\n",
    "f.text(0.54, 0.005, \"inclination (deg)\", ha='center')\n",
    "ax1.text(x_text[0], y_text[0], label_fig[0])\n",
    "ax2.text(x_text[-1], y_text[-1], label_fig[-1])\n",
    "ax1.set_ylabel(r\"perpendicular angle at projected frame $\\theta_{90}$ (deg)\")\n",
    "ax2.set_ylabel(r\"projected alatude $\\Lambda$\")\n",
    "ax1.set_xlim(0, 90.0)\n",
    "ax1.set_ylim(90, 180.0)\n",
    "f.tight_layout()\n",
    "f.savefig(\"./Figures/cantoid-th90-vs-i.pdf\")"
   ]
  },
  {
   "cell_type": "markdown",
   "metadata": {},
   "source": [
    "### $\\Lambda$ vs $i$ for ancantoids"
   ]
  },
  {
   "cell_type": "markdown",
   "metadata": {},
   "source": [
    "Recycle line code from above and adapt to the the current problem"
   ]
  },
  {
   "cell_type": "code",
   "execution_count": null,
   "metadata": {
    "collapsed": false
   },
   "outputs": [],
   "source": [
    "f= plt.figure()\n",
    "x1_text = [60, 65]\n",
    "x2_text = [3, 72]\n",
    "y1_text = [160, 165]\n",
    "y2_text = [10, 6.5]\n",
    "label_text1 = [\"( a )\", \"( c )\"]\n",
    "label_text2 = [\"( b )\", \"( d )\"]\n",
    "for n, X in enumerate(xi):\n",
    "    k = 2./X - 2\n",
    "    ax1 = f.add_subplot(2, 2, 2*n+1, adjustable=\"box\")\n",
    "    ax2 = f.add_subplot(2, 2, 2*n+2, adjustable=\"box\")\n",
    "    for b, c in zip(beta[1:], color[1:]):\n",
    "        ancantoid = Shell(beta=b, innertype=\"anisotropic\", xi=X)\n",
    "        R = ancantoid.radius(theta)\n",
    "        R0 = R[0]\n",
    "        R_int = interp1d(theta, R)\n",
    "        thinf = fsolve(_finf, np.radians(91.0), args=(b, X))\n",
    "        label = r\"$\\beta = {}$\"\n",
    "        # find maximum inclination where the tangent line exists\n",
    "        imax = thinf - 0.5*np.pi\n",
    "        # set array size such that the step is the same in all cases\n",
    "        step = np.radians(1.0) # 1 degree is good to make the brentq method work for all beta values\n",
    "        narray = imax/step\n",
    "        inc_arr = np.linspace(0.0, imax, narray, endpoint=False)\n",
    "        t0_arr = []\n",
    "        t90_arr = []\n",
    "        w = np.gradient(np.log(R))/np.gradient(theta)\n",
    "        for i in inc_arr:\n",
    "            f_int_t0 = interp1d(theta, f_proj_t0(theta, w, np.degrees(i)))\n",
    "            f_int_t90 = interp1d(theta, f_proj_t90(theta, w, np.degrees(i)))\n",
    "            t90 = brentq(f_int_t90, step, thinf-step)\n",
    "            if i == 0.0:\n",
    "                t0 = 0.0\n",
    "            else:\n",
    "                t0 = brentq(f_int_t0, step, thinf-step)\n",
    "            t0_arr.append(t0)\n",
    "            t90_arr.append(t90)\n",
    "        sin_phi_t90 = 1./(np.tan(inc_arr)*np.tan(np.array(t90_arr)))\n",
    "        R0p = R_int(np.array(t0_arr))*np.cos(np.array(t0_arr)-inc_arr)\n",
    "        R90p = R_int(np.array(t90_arr))*np.sin(np.array(t90_arr))*np.sqrt(1-sin_phi_t90**2)\n",
    "        Lambda = R90p/R0p\n",
    "        ax1.plot(np.degrees(inc_arr), np.degrees(t90_arr), label=label.format(b), c=c)\n",
    "        ax2.plot(np.degrees(inc_arr), Lambda, label=label.format(b), c=c)\n",
    "    ax1.legend(title=r\"$k={}$\".format(k))\n",
    "    ax2.legend(title=r\"$k={}$\".format(k))\n",
    "    ax1.text(x1_text[n], y1_text[n], label_text1[n])\n",
    "    ax2.text(x2_text[n], y2_text[n], label_text2[n])\n",
    "fontsize = 12\n",
    "f.text(0.51, 0.52, r\"projected alatude $\\Lambda$\", va=\"center\", rotation=\"vertical\", fontsize=fontsize)\n",
    "f.text(0.51, 0.02, \"inclination (deg)\", ha='center', fontsize=fontsize)\n",
    "f.text(0.01, 0.5, r\"perpendicular angle at projected frame $\\theta_{90}$ (deg)\", va='center', rotation=\"vertical\", fontsize=fontsize)\n",
    "f.tight_layout()\n",
    "f.set_size_inches(8, 8)\n",
    "f.savefig(\"./Figures/ancantoid-th90-vs-i.pdf\")"
   ]
  },
  {
   "cell_type": "markdown",
   "metadata": {
    "collapsed": true
   },
   "source": [
    "## Plot Apparent shape of bowshocks"
   ]
  },
  {
   "cell_type": "markdown",
   "metadata": {},
   "source": [
    "As in paper, we will include the following shapes, splitted in two figures:\n",
    "\n",
    "In figure 1:\n",
    "Top left: Confocal paraboloid. Top right: Wilkinoid\n",
    "\n",
    "Bottom left: Cantoid, $\\beta=0.001$. Bottom Right: Cantoid $\\beta=0.01$\n",
    "\n",
    "In figure 2 ancantoids only:\n",
    "\n",
    "Top left: $\\beta=0.001$, $k=1/2$. Top right: $\\beta=0.1$, $k=1/2$\n",
    "\n",
    "Bottom left: $\\beta=0.001$, $k=3$. Bottom Right: $\\beta=0.1$ $k=3$"
   ]
  },
  {
   "cell_type": "markdown",
   "metadata": {},
   "source": [
    "Start with figure 1:"
   ]
  },
  {
   "cell_type": "code",
   "execution_count": null,
   "metadata": {
    "collapsed": false
   },
   "outputs": [],
   "source": [
    "def par_proj_shape(t, i, Pi=2.0):\n",
    "    \"\"\"\n",
    "    Projected shape of parabolic like bowshock\n",
    "    arguments:\n",
    "    t: adimensional parameter (array must start with t0=tan(i))\n",
    "    Pi: Intrinsec planitude\n",
    "    i: inclination rspect the plane of sky\n",
    "    \"\"\"\n",
    "    xt = np.cos(i)*(1 + 0.5*Pi*np.tan(i)**2-0.5*Pi*(t**2-np.tan(i)**2))\n",
    "    yt = Pi*np.sqrt(t**2-np.tan(i)**2)\n",
    "    R0p = np.cos(i)*(1+0.5*Pi*np.tan(i)**2)\n",
    "    return(xt/R0p, yt/R0p)"
   ]
  },
  {
   "cell_type": "code",
   "execution_count": null,
   "metadata": {
    "collapsed": false
   },
   "outputs": [],
   "source": [
    "R_int = interp1d(theta, Rw)\n",
    "step = np.radians(1.0)\n",
    "thinf = np.pi\n",
    "f_int_t0 = interp1d(theta, f_proj_t0(theta, ww, 60.0))\n",
    "#t0 = 0.0\n",
    "t0 = brentq(f_int_t0, step, thinf-step)\n",
    "theta_proj = theta[theta>=t0]\n",
    "tp, rp = proj_shape(R_int(theta_proj), theta_proj, np.radians(60.0), cartesian=False)\n",
    "Tp, Rp = complete_shape(rp, tp)\n",
    "xt, yt = Rp*np.cos(Tp), Rp*np.sin(Tp)\n",
    "plt.plot(xt, yt)"
   ]
  },
  {
   "cell_type": "code",
   "execution_count": null,
   "metadata": {
    "collapsed": false
   },
   "outputs": [],
   "source": [
    "b_proj = [\"paraboloid\", \"wilkinoid\", 5e-3, 1e-2]\n",
    "inc = np.array([0, 15, 30, 45, 60, 75])\n",
    "color_scale = sns.color_palette(\"magma\", n_colors=len(inc))\n",
    "lw_scale = [3.5, 3, 2.5, 2, 1.5, 1]\n",
    "f= plt.figure()\n",
    "label_fig = [\"( a )\", \"( b )\", \"( c )\", \"( d )\"]\n",
    "x_text = [-5.8, 1.7, -5.8, 1.7]\n",
    "y_text = 3.8\n",
    "for n, b in enumerate(b_proj):\n",
    "    ax = f.add_subplot(2, 2, n+1, adjustable=\"box\")\n",
    "    imax = np.radians(75.0)\n",
    "    if b is not \"paraboloid\": # R(theta) for non paraboloid bow shocks normalized with R0\n",
    "        if b==\"wilkinoid\":\n",
    "            R = wilkinoid(theta)\n",
    "            thinf=np.pi\n",
    "            title = \"Wilkinoid\"\n",
    "        else:\n",
    "            cantoid = Shell(beta=b, innertype=\"isotropic\")\n",
    "            R = cantoid.radius(theta)\n",
    "            thinf = fsolve(_finfCRW, np.radians(91.0), args=(b))\n",
    "            title = \"Cantoid\\n\" + r\"$\\beta={}$\".format(b)\n",
    "        w = np.gradient(np.log(R))/np.gradient(theta)\n",
    "        R_int = interp1d(theta, R)\n",
    "        imax = thinf - 0.5*np.pi\n",
    "        step = np.radians(1.0) # 1 degree is good to make the brentq method work for all beta values\n",
    "    for i, c, lw in zip(inc[inc<=np.degrees(imax)], color_scale, lw_scale):\n",
    "        if b ==\"paraboloid\":\n",
    "            xp, yp = par_proj_shape(np.linspace(np.tan(np.radians(i)), 10, 500), np.radians(i))\n",
    "            tp, rp = complete_shape(np.hypot(xp, yp), np.arctan2(yp, xp))\n",
    "            xt, yt = rp*np.cos(tp), rp*np.sin(tp)\n",
    "            title=\"Paraboloid\"\n",
    "        else:\n",
    "            f_int_t0 = interp1d(theta, f_proj_t0(theta, w, i))\n",
    "            if i == 0.0:\n",
    "                t0 = 0.0\n",
    "            else:\n",
    "                t0 = brentq(f_int_t0, step, thinf-step)\n",
    "            R0p = R_int(t0)*np.cos(t0-np.radians(i))\n",
    "            theta_proj = np.linspace(t0, thinf-step, 500) # use elements from theta where the tangent line exists\n",
    "            tp, rp = proj_shape(R_int(theta_proj), theta_proj, np.radians(i), cartesian=False)\n",
    "            Tp, Rp = complete_shape(rp, tp) #First compute projected shape, then draw complete shape\n",
    "            xt, yt = Rp*np.cos(Tp)/R0p, Rp*np.sin(Tp)/R0p\n",
    "        ax.plot(xt, yt, c=c, label=r\"$i={}^\\circ$\".format(i), lw=lw)\n",
    "        ax.plot(0, 0, \"ok\")\n",
    "        ax.legend(title=title, loc=\"center left\")\n",
    "        ax.set_xlim(-6.5, 2.5)\n",
    "        ax.set_ylim(-4.5, 4.5)\n",
    "        ax.text(x_text[n], y_text, label_fig[n])\n",
    "    if n < 2:\n",
    "        ax.set_xticks([])\n",
    "    if n==1 or n==3:\n",
    "        ax.set_yticks([])\n",
    "    if n==2:\n",
    "        ax.set_xlabel(r\"$x'/R'_0$\")\n",
    "        ax.set_ylabel(r\"$y/R'_0$\")\n",
    "f.tight_layout()\n",
    "f.set_size_inches(10, 10)\n",
    "f.savefig(\"./Figures/cantoid-apparent-shape.pdf\")"
   ]
  },
  {
   "cell_type": "markdown",
   "metadata": {
    "collapsed": true
   },
   "source": [
    "Plot apparent shape for ancantoids"
   ]
  },
  {
   "cell_type": "code",
   "execution_count": 36,
   "metadata": {
    "collapsed": false
   },
   "outputs": [
    {
     "ename": "NameError",
     "evalue": "name 'f_proj_t0' is not defined",
     "output_type": "error",
     "traceback": [
      "\u001b[0;31m---------------------------------------------------------------------------\u001b[0m",
      "\u001b[0;31mNameError\u001b[0m                                 Traceback (most recent call last)",
      "\u001b[0;32m<ipython-input-36-858fe01fc61f>\u001b[0m in \u001b[0;36m<module>\u001b[0;34m()\u001b[0m\n\u001b[1;32m     21\u001b[0m         \u001b[0mstep\u001b[0m \u001b[0;34m=\u001b[0m \u001b[0mnp\u001b[0m\u001b[0;34m.\u001b[0m\u001b[0mradians\u001b[0m\u001b[0;34m(\u001b[0m\u001b[0;36m1.0\u001b[0m\u001b[0;34m)\u001b[0m \u001b[0;31m# 1 degree is good to make the brentq method work for all beta values\u001b[0m\u001b[0;34m\u001b[0m\u001b[0m\n\u001b[1;32m     22\u001b[0m         \u001b[0;32mfor\u001b[0m \u001b[0mi\u001b[0m\u001b[0;34m,\u001b[0m \u001b[0mc\u001b[0m\u001b[0;34m,\u001b[0m \u001b[0mlw\u001b[0m \u001b[0;32min\u001b[0m \u001b[0mzip\u001b[0m\u001b[0;34m(\u001b[0m\u001b[0minc\u001b[0m\u001b[0;34m[\u001b[0m\u001b[0minc\u001b[0m\u001b[0;34m<=\u001b[0m\u001b[0mnp\u001b[0m\u001b[0;34m.\u001b[0m\u001b[0mdegrees\u001b[0m\u001b[0;34m(\u001b[0m\u001b[0mimax\u001b[0m\u001b[0;34m)\u001b[0m\u001b[0;34m]\u001b[0m\u001b[0;34m,\u001b[0m \u001b[0mcolor_scale\u001b[0m\u001b[0;34m,\u001b[0m \u001b[0mlw_scale\u001b[0m\u001b[0;34m)\u001b[0m\u001b[0;34m:\u001b[0m\u001b[0;34m\u001b[0m\u001b[0m\n\u001b[0;32m---> 23\u001b[0;31m             \u001b[0mf_int_t0\u001b[0m \u001b[0;34m=\u001b[0m \u001b[0minterp1d\u001b[0m\u001b[0;34m(\u001b[0m\u001b[0mtheta\u001b[0m\u001b[0;34m,\u001b[0m \u001b[0mf_proj_t0\u001b[0m\u001b[0;34m(\u001b[0m\u001b[0mtheta\u001b[0m\u001b[0;34m,\u001b[0m \u001b[0mw\u001b[0m\u001b[0;34m,\u001b[0m \u001b[0mi\u001b[0m\u001b[0;34m)\u001b[0m\u001b[0;34m)\u001b[0m\u001b[0;34m\u001b[0m\u001b[0m\n\u001b[0m\u001b[1;32m     24\u001b[0m             \u001b[0;32mif\u001b[0m \u001b[0mi\u001b[0m \u001b[0;34m==\u001b[0m \u001b[0;36m0.0\u001b[0m\u001b[0;34m:\u001b[0m\u001b[0;34m\u001b[0m\u001b[0m\n\u001b[1;32m     25\u001b[0m                 \u001b[0mt0\u001b[0m \u001b[0;34m=\u001b[0m \u001b[0;36m0.0\u001b[0m\u001b[0;34m\u001b[0m\u001b[0m\n",
      "\u001b[0;31mNameError\u001b[0m: name 'f_proj_t0' is not defined"
     ]
    },
    {
     "data": {
      "image/png": "[encoded data removed]",
      "text/plain": [
       "<matplotlib.figure.Figure at 0x7f12ecb6f208>"
      ]
     },
     "metadata": {},
     "output_type": "display_data"
    }
   ],
   "source": [
    "b_proj = [5e-3, 1e-2]\n",
    "xi_proj = [0.8, 0.4]\n",
    "inc = np.array([0, 15, 30, 45, 60, 70])\n",
    "color_scale = sns.color_palette(\"magma\", n_colors=len(inc))\n",
    "lw_scale = [3.5, 3, 2.5, 2, 1.5, 1]\n",
    "f= plt.figure()\n",
    "x_text = 1.8\n",
    "y_text = 3.8\n",
    "label_fig = [\"( a )\", \"( b )\", \"( c )\", \"( d )\"]\n",
    "for n, x in enumerate(xi_proj):\n",
    "    k=2./x - 2\n",
    "    for m, b in enumerate(b_proj):\n",
    "        ax = f.add_subplot(2, 2, 2*n+m+1, adjustable=\"box\")\n",
    "        ancantoid = Shell(beta=b, innertype=\"anisotropic\", xi=x)\n",
    "        R = ancantoid.radius(theta)\n",
    "        thinf = fsolve(_finf, np.radians(91.0), args=(b, x))\n",
    "        title = \"Ancantoid\\n\" + r\"$\\beta={}$, $k={}$\".format(b, k)\n",
    "        w = np.gradient(np.log(R))/np.gradient(theta)\n",
    "        R_int = interp1d(theta, R)\n",
    "        imax = thinf - 0.5*np.pi\n",
    "        step = np.radians(1.0) # 1 degree is good to make the brentq method work for all beta values\n",
    "        for i, c, lw in zip(inc[inc<=np.degrees(imax)], color_scale, lw_scale):\n",
    "            f_int_t0 = interp1d(theta, f_proj_t0(theta, w, i))\n",
    "            if i == 0.0:\n",
    "                t0 = 0.0\n",
    "            else:\n",
    "                t0 = brentq(f_int_t0, step, thinf-step)\n",
    "            R0p = R_int(t0)*np.cos(t0-np.radians(i))\n",
    "            theta_proj = np.linspace(t0, thinf-step, 500) # use elements from theta where the tangent line exists\n",
    "            xp, yp = proj_shape(R_int(theta_proj), theta_proj, np.radians(i))\n",
    "            if np.isnan(xp[0]):\n",
    "                xp[0] = R0p\n",
    "                yp[0] = 0.0\n",
    "            Tp, Rp = complete_shape(np.hypot(xp, yp), np.arctan2(yp, xp)) #First compute projected shape, then draw complete shape\n",
    "            xt, yt = Rp*np.cos(Tp)/R0p, Rp*np.sin(Tp)/R0p\n",
    "            ax.plot(xt, yt, c=c, label=r\"$i={}^\\circ$\".format(i), lw=lw)\n",
    "        ax.plot(0, 0, \"ok\")\n",
    "        ax.legend(title=title, loc=\"center left\")\n",
    "        ax.set_xlim(-6.5, 2.5)\n",
    "        ax.set_ylim(-4.5, 4.5)\n",
    "        ax.text(x_text, y_text, label_fig[2*n+m])\n",
    "        if n == 0:\n",
    "            ax.set_xticks([])\n",
    "        if m==1:\n",
    "            ax.set_yticks([])\n",
    "        if n==1 and m==0:\n",
    "            ax.set_xlabel(r\"$x'/R'_0$\")\n",
    "            ax.set_ylabel(r\"$y/R'_0$\")\n",
    "f.tight_layout()\n",
    "f.set_size_inches(10, 10)\n",
    "f.savefig(\"./Figures/ancantoid-apparent-shape.pdf\")"
   ]
  },
  {
   "cell_type": "markdown",
   "metadata": {},
   "source": [
    "## Plot $R''(\\theta)$ vs $\\theta$ for ancantoids"
   ]
  },
  {
   "cell_type": "markdown",
   "metadata": {},
   "source": [
    "Plot the second derivative of $R$ respect $\\theta$ to show the \"kink\" at the wind discontinuity.\n",
    "\n",
    "Use the following examples;\n",
    "\n",
    "- $k=0$\n",
    "- $k=1/2$\n",
    "- $k=3$"
   ]
  },
  {
   "cell_type": "markdown",
   "metadata": {},
   "source": [
    "Compute derivatives of $R$ and make the plots"
   ]
  },
  {
   "cell_type": "code",
   "execution_count": 38,
   "metadata": {
    "collapsed": false
   },
   "outputs": [
    {
     "data": {
      "text/plain": [
       "<matplotlib.text.Text at 0x7f12ed1f7588>"
      ]
     },
     "execution_count": 38,
     "metadata": {},
     "output_type": "execute_result"
    },
    {
     "data": {
      "image/png": "[encoded data removed]",
      "text/plain": [
       "<matplotlib.figure.Figure at 0x7f12ed9dfac8>"
      ]
     },
     "metadata": {},
     "output_type": "display_data"
    }
   ],
   "source": [
    "theta = np.linspace(0, np.radians(150), 500, endpoint=False)\n",
    "shellc = Shell(beta=0.01, innertype=\"isotropic\")\n",
    "Rc = shellc.radius(theta)\n",
    "dRc = np.gradient(Rc)/np.gradient(theta)\n",
    "d2Rc = np.gradient(dRc)/np.gradient(theta)\n",
    "plt.plot(np.degrees(theta), d2Rc, \"k\", lw=2, alpha=0.5)\n",
    "for xi in [1.0, 0.8, 0.4]:\n",
    "    shell = Shell(beta=0.01, innertype=\"anisotropic\", xi=xi)\n",
    "    R = shell.radius(theta)\n",
    "    dR = np.gradient(R)/np.gradient(theta)\n",
    "    d2R = np.gradient(dR)/np.gradient(theta)\n",
    "    plt.plot(np.degrees(theta), d2R)\n",
    "    plt.xlim(80, 100)\n",
    "    plt.ylim(0, 0.5)\n",
    "plt.xlabel(r\"$\\theta$ (deg)\")\n",
    "plt.ylabel(r\"$R_{\\theta\\theta}$\")\n",
    "#plt.text()"
   ]
  },
  {
   "cell_type": "code",
   "execution_count": null,
   "metadata": {
    "collapsed": true
   },
   "outputs": [],
   "source": []
  }
 ],
 "metadata": {
  "kernelspec": {
   "display_name": "Python 3",
   "language": "python",
   "name": "python3"
  },
  "language_info": {
   "codemirror_mode": {
    "name": "ipython",
    "version": 3
   },
   "file_extension": ".py",
   "mimetype": "text/x-python",
   "name": "python",
   "nbconvert_exporter": "python",
   "pygments_lexer": "ipython3",
   "version": "3.6.0"
  }
 },
 "nbformat": 4,
 "nbformat_minor": 2
}
